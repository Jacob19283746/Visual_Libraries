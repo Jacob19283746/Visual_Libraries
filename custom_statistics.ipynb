{
 "cells": [
  {
   "cell_type": "code",
   "execution_count": null,
   "id": "bea66cab-a22d-4354-b245-a6e4b1d51c8d",
   "metadata": {},
   "outputs": [],
   "source": [
    "#%%\n",
    "\n",
    "\"\"\"Фнкция составления статистики\"\"\"\n",
    "def calculate_statistics(data):\n",
    "    stats = {}\n",
    "    stats['mean_close'] = data['Close'].mean()\n",
    "    stats['volatility'] = data['Close'].std()\n",
    "    stats['max_open'] = data['Open'].max()\n",
    "    stats['min_open'] = data['Open'].min()\n",
    "    stats['max_close'] = data['Close'].max()\n",
    "    stats['min_close'] = data['Close'].min()\n",
    "    stats['price_change'] = (data['Close'].iloc[-1] - data['Close'].iloc[0]) / data['Close'].iloc[0] * 100\n",
    "    stats['mean_volume'] = data['Volume'].mean()\n",
    "    stats['max_volume'] = data['Volume'].max()\n",
    "    stats['min_volume'] = data['Volume'].min()\n",
    "    return stats\n",
    "\n",
    "\"\"\"Функция вывода статистики в консоль\"\"\"\n",
    "def print_statistics(stats):\n",
    "    print(f\"Средняя цена закрытия: {stats['mean_close']:.2f}\")\n",
    "    print(f\"Волатильность цены закрытия: {stats['volatility']:.2f}\")\n",
    "    print(f\"Максимальная цена открытия: {stats['max_open']:.2f}\")\n",
    "    print(f\"Минимальная цена открытия: {stats['min_open']:.2f}\")\n",
    "    print(f\"Максимальная цена закрытия: {stats['max_close']:.2f}\")\n",
    "    print(f\"Минимальная цена закрытия: {stats['min_close']:.2f}\")\n",
    "    print(f\"Изменение цены закрытия за период: {stats['price_change']:.2f}%\")\n",
    "    print(f\"Средний объем торгов: {stats['mean_volume']:.2f}\")\n",
    "    print(f\"Максимальный объем торгов: {stats['max_volume']:.2f}\")\n",
    "    print(f\"Минимальный объем торгов: {stats['min_volume']:.2f}\")"
   ]
  }
 ],
 "metadata": {
  "language_info": {
   "codemirror_mode": {
    "name": "ipython",
    "version": 3
   },
   "file_extension": ".py",
   "mimetype": "text/x-python",
   "name": "python",
   "nbconvert_exporter": "python",
   "pygments_lexer": "ipython3",
   "version": 3
  }
 },
 "nbformat": 4,
 "nbformat_minor": 2
}
