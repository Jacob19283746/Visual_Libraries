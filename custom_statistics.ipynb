"""Фнкция составления статистики"""
def calculate_statistics(data):
    stats = {}
    stats['mean_close'] = data['Close'].mean()
    stats['volatility'] = data['Close'].std()
    stats['max_open'] = data['Open'].max()
    stats['min_open'] = data['Open'].min()
    stats['max_close'] = data['Close'].max()
    stats['min_close'] = data['Close'].min()
    stats['price_change'] = (data['Close'].iloc[-1] - data['Close'].iloc[0]) / data['Close'].iloc[0] * 100
    stats['mean_volume'] = data['Volume'].mean()
    stats['max_volume'] = data['Volume'].max()
    stats['min_volume'] = data['Volume'].min()
    return stats

"""Функция вывода статистики в консоль"""
def print_statistics(stats):
    print(f"Средняя цена закрытия: {stats['mean_close']:.2f}")
    print(f"Волатильность цены закрытия: {stats['volatility']:.2f}")
    print(f"Максимальная цена открытия: {stats['max_open']:.2f}")
    print(f"Минимальная цена открытия: {stats['min_open']:.2f}")
    print(f"Максимальная цена закрытия: {stats['max_close']:.2f}")
    print(f"Минимальная цена закрытия: {stats['min_close']:.2f}")
    print(f"Изменение цены закрытия за период: {stats['price_change']:.2f}%")
    print(f"Средний объем торгов: {stats['mean_volume']:.2f}")
    print(f"Максимальный объем торгов: {stats['max_volume']:.2f}")
    print(f"Минимальный объем торгов: {stats['min_volume']:.2f}")
