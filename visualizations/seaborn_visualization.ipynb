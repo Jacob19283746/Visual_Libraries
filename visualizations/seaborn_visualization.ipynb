{
 "cells": [
  {
   "cell_type": "code",
   "execution_count": null,
   "id": "48222fed-ad10-4cf1-880a-9aa6bea8b5e0",
   "metadata": {},
   "outputs": [],
   "source": [
    "#%%\n",
    "\n",
    "\"\"\"import seaborn as sns\n",
    "import matplotlib.pyplot as plt\n",
    "# Пример точечной диаграммы\n",
    "data = sns.load_dataset(\"tips\")\n",
    "sns.scatterplot(x='total_bill', y='tip', data=data)\n",
    "plt.title('График чаевых')\n",
    "plt.show()\"\"\"\n",
    "\n",
    "\n",
    "import seaborn as sns\n",
    "import matplotlib.pyplot as plt\n",
    "\n",
    "\"\"\"Функция построения графика\"\"\"\n",
    "def plot_graph(data):\n",
    "    plt.figure(figsize=(10, 5))\n",
    "\n",
    "    \"\"\"Линии для цен открытия и закрытия\"\"\"\n",
    "    sns.lineplot(data=data, x='Open time', y='Open', label='Цена открытия', color='blue')\n",
    "    sns.lineplot(data=data, x='Open time', y='Close', label='Цена закрытия', color='orange')\n",
    "\n",
    "    \"\"\"Добавление скользящего среднего для цены закрытия\"\"\"\n",
    "    data['Close_MA'] = data['Close'].rolling(window=20).mean() # 20-периодное скользящее среднее\n",
    "    sns.lineplot(data=data, x='Open time', y='Close_MA', label='Скользящее среднее (20)', color='green')\n",
    "\n",
    "    \"\"\"Настройки графика\"\"\"\n",
    "    plt.title('Цена открытия закрытия криптовалюты с трендом')\n",
    "    plt.xlabel('Время')\n",
    "    plt.ylabel('Цена')\n",
    "    plt.legend()\n",
    "\n",
    "    \"\"\"Вывод в окно рисунка\"\"\"\n",
    "    plt.show()"
   ]
  }
 ],
 "metadata": {
  "language_info": {
   "codemirror_mode": {
    "name": "ipython",
    "version": 3
   },
   "file_extension": ".py",
   "mimetype": "text/x-python",
   "name": "python",
   "nbconvert_exporter": "python",
   "pygments_lexer": "ipython3",
   "version": 3
  }
 },
 "nbformat": 4,
 "nbformat_minor": 2
}
