{
 "cells": [
  {
   "cell_type": "code",
   "execution_count": null,
   "id": "b9e614d4-4b9b-4158-9ecc-9cc6cf56ec3e",
   "metadata": {},
   "outputs": [],
   "source": [
    "#%%\n",
    "\n",
    "\"\"\"import plotly.graph_objects as go\n",
    "from plotly.offline import plot\n",
    "# Пример простого графика\n",
    "df = px.data.gapminder().query(\"continent == 'Oceania'\")\n",
    "fig = px.line(df, x='year', y='gdpPercap', color='country')\n",
    "plot(fig)\"\"\"\n",
    "\n",
    "import plotly.graph_objects as go\n",
    "from plotly.offline import plot\n",
    "\n",
    "\n",
    "\"\"\"Функция построения графика\"\"\"\n",
    "def plot_graph(data):\n",
    "    fig = go.Figure()\n",
    "\n",
    "    \"\"\"Линии для цен открытия и закрытия\"\"\"\n",
    "    fig.add_trace(\n",
    "        go.Scatter(\n",
    "            x=data['Open time'], y=data['Open'], mode='lines', name='Цена открытия', line=dict(color='blue')))\n",
    "    fig.add_trace(\n",
    "        go.Scatter(\n",
    "            x=data['Open time'], y=data['Close'], mode='lines', name='Цена закрытия', line=dict(color='orange')))\n",
    "\n",
    "    \"\"\"Добавление скользящего среднего для цены закрытия\"\"\"\n",
    "    data['Close_MA'] = data['Close'].rolling(window=20).mean()  # 20-периодное скользящее среднее\n",
    "    fig.add_trace(\n",
    "        go.Scatter(\n",
    "            x=data['Open time'], y=data['Close_MA'], mode='lines', name='Скользящее среднее (20)',\n",
    "            line=dict(color='green')))\n",
    "\n",
    "    \"\"\"Настройки графика\"\"\"\n",
    "    fig.update_layout(title='Цены откытия и закрытия криптовалюты с трендом', xaxis_title='Время', yaxis_title='Цена')\n",
    "\n",
    "    \"\"\"Вывод графика в браузер\"\"\"\n",
    "    plot(fig)"
   ]
  }
 ],
 "metadata": {
  "language_info": {
   "codemirror_mode": {
    "name": "ipython",
    "version": 3
   },
   "file_extension": ".py",
   "mimetype": "text/x-python",
   "name": "python",
   "nbconvert_exporter": "python",
   "pygments_lexer": "ipython3",
   "version": 3
  }
 },
 "nbformat": 4,
 "nbformat_minor": 2
}
