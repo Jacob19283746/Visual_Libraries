{
 "cells": [
  {
   "cell_type": "code",
   "execution_count": null,
   "id": "9f3556f1-f992-4cfc-8afc-17f78ac8f9fa",
   "metadata": {},
   "outputs": [],
   "source": [
    "#%%\n",
    "\n",
    "\"\"\"import matplotlib.pyplot as plt\n",
    "# Пример простого графика\n",
    "x = [1, 2, 3, 4, 5]\n",
    "y = [2, 3, 5, 7, 11]\n",
    "plt.plot(x, y)\n",
    "plt.title('Простой график')\n",
    "plt.xlabel('X-оси')\n",
    "plt.ylabel('Y-оси')\n",
    "plt.show()\"\"\"\n",
    "\n",
    "import matplotlib.pyplot as plt\n",
    "\n",
    "\"\"\"Функция построения графика\"\"\"\n",
    "def plot_graph(data):\n",
    "    plt.figure(figsize=(10, 5))\n",
    "\n",
    "    \"\"\"Линии для цен открытия и закрытия\"\"\"\n",
    "    plt.plot(data['Open time'], data['Open'], label='Цена открытия', color='blue')\n",
    "    plt.plot(data['Open time'], data['Close'], label='Цена закрытия', color='orange')\n",
    "\n",
    "    \"\"\"Добавление скользящего среднего для цен закрытия\n",
    "       20-периодное скользящее среднее\"\"\"\n",
    "    data['Close_MA'] = data['Close'].rolling(window=20).mean()  \n",
    "    plt.plot(data['Open time'], data['Close_MA'], label='Скользящее среднее (20)', color='green')\n",
    "\n",
    "    \"\"\"Настройки графика\"\"\"\n",
    "    plt.title('Цена открытия и закрытия криптовалюты с трендом')\n",
    "    plt.xlabel('Время')\n",
    "    plt.ylabel('Цена')\n",
    "    plt.legend()\n",
    "\n",
    "    \"\"\"Вывод в окно рисунка\"\"\"\n",
    "    plt.show()"
   ]
  }
 ],
 "metadata": {
  "language_info": {
   "codemirror_mode": {
    "name": "ipython",
    "version": 3
   },
   "file_extension": ".py",
   "mimetype": "text/x-python",
   "name": "python",
   "nbconvert_exporter": "python",
   "pygments_lexer": "ipython3",
   "version": 3
  }
 },
 "nbformat": 4,
 "nbformat_minor": 2
}
